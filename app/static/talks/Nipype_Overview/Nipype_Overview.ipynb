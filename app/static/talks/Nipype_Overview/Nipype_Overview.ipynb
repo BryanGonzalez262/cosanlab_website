{
 "metadata": {
  "celltoolbar": "Slideshow",
  "name": "",
  "signature": "sha256:1ced49f8a5de097b27d215b2dcf1f223dabc26fa120c9e43ca74e2e8520ed321"
 },
 "nbformat": 3,
 "nbformat_minor": 0,
 "worksheets": [
  {
   "cells": [
    {
     "cell_type": "markdown",
     "metadata": {
      "slideshow": {
       "slide_type": "slide"
      }
     },
     "source": [
      "<h1><center>Creating flexible neuroimaging pipelines with Nipype</center></h1>\n",
      "<h2><center><em>Luke Chang</em></center></h2>\n",
      "<h3><center>University of Colorado Boulder</center></h3>"
     ]
    },
    {
     "cell_type": "markdown",
     "metadata": {
      "slideshow": {
       "slide_type": "slide"
      }
     },
     "source": [
      "<h1>Overview</h1>\n",
      "<ol>\n",
      "<li>Why Python?</li>\n",
      "<li>The beauty of iPython Notebooks</li>\n",
      "<li>What is Nipype?</li>\n",
      "<li>Example preprocessing pipeline</li>\n",
      "</ol>"
     ]
    },
    {
     "cell_type": "markdown",
     "metadata": {
      "slideshow": {
       "slide_type": "slide"
      }
     },
     "source": [
      "<h1>Python's Cannibalization of Scientific Computing</h1>\n",
      "<ul>\n",
      "<li>Scripting</li>\n",
      "<li>Stimulus Presentation (e.g., <a href = \"http://www.psychopy.org/\">psychopy</a>)</li>\n",
      "<li>Plotting (e.g., <a href = \"http://matplotlib.org/\">matplotlib</a>, <a href = \"http://web.stanford.edu/~mwaskom/software/seaborn/\">seaborn</a>, <a href = \"http://mpld3.github.io/\">d3</a>)</li>\n",
      "<li>Analysis (e.g., <a href = \"http://www.numpy.org/\">numpy</a>, <a href = \"http://pandas.pydata.org/\">pandas</a>, <a href = \"http://statsmodels.sourceforge.net/\">statsmodels</a>)</li>\n",
      "<li>Machine Learning (e.g., <a href = \"http://scikit-learn.org/stable/\">scikit-learn</a>) </li>\n",
      "<li>Neuroimaging analysis (e.g., <a href = \"http://nipy.org/\">nipy</a>, <a href = \"http://nilearn.github.io/\">nilearn</a>, <a href = \"http://www.pymvpa.org/\">pymvpa</a>)</li>\n",
      "<li>Websites (e.g. <a href = \"http://flask.pocoo.org/\">flask</a>, <a href = \"https://www.djangoproject.com/\">django</a>, <a href = \"http://ipython.org/notebook.html\">iPython Notebooks</a>)</li>\n",
      "<li>Parallel Computing (e.g., <a href = \"http://ipython.org/ipython-doc/dev/parallel/\">ipython</a>, <a href = \"http://pymotw.com/2/multiprocessing/basics.html\">multiprocessing</a>)</li><li><a href = \"http://www.talyarkoni.org/blog/2013/11/18/the-homogenization-of-scientific-computing-or-why-python-is-steadily-eating-other-languages-lunch/\">See Tal Yarkoni's blogpost for overview</a></li>\n",
      "</ul>"
     ]
    },
    {
     "cell_type": "markdown",
     "metadata": {
      "slideshow": {
       "slide_type": "slide"
      }
     },
     "source": [
      "<h1>iPython Notebooks</h1>\n",
      "<ul>\n",
      "<li>Interactive browser based python engine</li>\n",
      "<li>Great for lab notebooks</li>\n",
      "<li>Great for creating tutorials</li>\n",
      "<li>Can create slideshows (like this one)</li>\n",
      "<li>Can be easily shared (i.e., dropbox/github link rendered in <a href=\"http://nbviewer.ipython.org/\">nbviewer</a>)</li>\n",
      "<li>Can run on blanca!</li>\n",
      "</ul>"
     ]
    },
    {
     "cell_type": "markdown",
     "metadata": {
      "slideshow": {
       "slide_type": "subslide"
      }
     },
     "source": [
      "<h2>How to Set up iPython Notebook on Blanca</h2>\n",
      "<ol>\n",
      "<li>1) log on to Blanca and make sure you are using Luke's Python Anaconda distribution\n",
      "<br><br>\n",
      "```/projects/luch0518/software/anaconda```<br><br></li>\n",
      "<li>Start ipython notebook server on blanca.  Disable browser and specify port\n",
      "<br><br>```\n",
      "ipython notebook --no-browser --port=8889```\n",
      "<br><br>\n",
      "</li>\n",
      "\n",
      "<li>On your local computer, login to blanca using portforwarding\n",
      "<br><br>\n",
      "```\n",
      "ssh -N -f -L localhost:8889:localhost:8889 luch0518@blogin01.rc.colorado.edu\n",
      "```\n",
      "<br><br></li>\n",
      "\n",
      "<li>Open your browser to localhost:8889/tree</li>\n",
      "\n",
      "<li>The iPython notebook server should shutdown when you close the SSH connection, but just in case you can also kill the process.  Here is the command to find the process id:\n",
      "<br><br>\n",
      "```ps aux  | grep localhost:8889```\n",
      "<br><br></li>\n",
      "\n",
      "<li>Nipype can submit jobs automatically to Blanca.  You can check your queue or delete any process\n",
      "<br><br>\n",
      "<em>Check queue</em>\n",
      "<br><br>\n",
      "```qstat -u $USER```\n",
      "<br><br>\n",
      "<em>Delete Queue</em>\n",
      "<br><br>\n",
      "```qselect -u $USER | xargs qdel```<br></li>\n",
      "</ol>\n"
     ]
    },
    {
     "cell_type": "markdown",
     "metadata": {
      "slideshow": {
       "slide_type": "slide"
      }
     },
     "source": [
      "<h1>Problems With Neuroimaging Analyses</h1>\n",
      "<ul>\n",
      "<li>Lot's of software packages, but all have different assumptions, philosophies, interfaces, and file formats. What if we wanted to mix and match?</li>\n",
      "<li>How do we train people?</li>\n",
      "<li>How do we process big data? (not feasible to use a gui for 1000 subjects)</li>\n",
      "<li>There are many pipeline packages, but have you ever tried using them? (e.g., BIRN Tools, HCP, LONI, MRN auto-analysis pipeline)</li>\n",
      "<li>How do we facilitate reproducible research?</li>\n",
      "<li>How do we create different lab pipelines?</li>\n",
      "<li>How can we have a pipeline that runs on different platforms and computing architectures?</li>\n",
      "</ul>"
     ]
    },
    {
     "cell_type": "markdown",
     "metadata": {
      "slideshow": {
       "slide_type": "slide"
      }
     },
     "source": [
      "<h1><center><em>What is nipype?</em></center></h1>"
     ]
    },
    {
     "cell_type": "markdown",
     "metadata": {
      "slideshow": {
       "slide_type": "slide"
      }
     },
     "source": [
      "<h1>What is nipype?</h1>\n",
      "<ul>\n",
      "<li>easily interact with tools from different software packages</li>\n",
      "<li>combine processing steps from different software packages</li>\n",
      "<li>develop new workflows faster by reusing common steps from old ones</li>\n",
      "<li>process data faster by running it in parallel on many cores/machines</li>\n",
      "<li>make your research easily reproducible</li>\n",
      "<li>share your processing workflows with the community</li>\n",
      "</ul>"
     ]
    },
    {
     "cell_type": "markdown",
     "metadata": {
      "slideshow": {
       "slide_type": "slide"
      }
     },
     "source": [
      "<h1>Nipype Architecture</h1>\n",
      "<ul>\n",
      "<li>Interface</li>\n",
      "<li>Engine</li>\n",
      "<li>Executable Plugins</li>\n",
      "</ul>\n",
      "<img src = \"Images/Nipype_All.png\">"
     ]
    },
    {
     "cell_type": "markdown",
     "metadata": {
      "slideshow": {
       "slide_type": "slide"
      }
     },
     "source": [
      "<h1>Nipype: Interface</h1>\n",
      "<ul>\n",
      "<li><p><strong>Interface:</strong> Wraps a program or function</p></li>\n",
      "</ul>\n",
      "<img src = \"Images/Nipype_Interface.png\" width=\"800\">"
     ]
    },
    {
     "cell_type": "markdown",
     "metadata": {
      "slideshow": {
       "slide_type": "slide"
      }
     },
     "source": [
      "<h1>Nipype: Engine</h1>\n",
      "<ul>\n",
      "<li><p><strong>Node/MapNode:</strong> Wraps an <em>Interface</em> for use in a <em>Workflow</em></p></li>\n",
      "<li><p><strong>Workflow:</strong> A <em>graph</em> whose nodes are of type <em>Node</em>, <em>MapNode</em>, or <em>Workflow</em> and whose edge represent data flow</p></li>\n",
      "</ul>\n",
      "<img src = \"Images/Nipype_Workflow.png\", height = \"600\" width=\"600\">"
     ]
    },
    {
     "cell_type": "markdown",
     "metadata": {
      "slideshow": {
       "slide_type": "slide"
      }
     },
     "source": [
      "<h1>Nipype: Plugin</h1>\n",
      "<ul>\n",
      "<li><p><strong>Interface:</strong> A component that describes how a <em>Workflow</em> should be executed</p></li>\n",
      "</ul>\n",
      "<img src = \"Images/Nipype_Plugin.png\" width=\"800\">"
     ]
    },
    {
     "cell_type": "markdown",
     "metadata": {
      "slideshow": {
       "slide_type": "slide"
      }
     },
     "source": [
      "<h1>Installing environment</h1>\n",
      "<ul>\n",
      "<li><h3>Scientific Python</h3></li>\n",
      "<ul>\n",
      "<li>Debian/Ubuntu/Scientific Fedora</li>\n",
      "<li>Enthought Python Distribution</li>\n",
      "<li>Anaconda</li>\n",
      "<li>There are modules on Blanca, though old versions of python.</li>\n",
      "<li>We have our own Anaconda build installed on Blanca.</li>\n",
      "</ul>\n",
      "<li><h3>Installing Nipype</h3></li>\n",
      "<ul>\n",
      "<li>PyPi</li>\n",
      "<li>Github</li>\n",
      "<li>Neurodebian</li>\n",
      "</ul>\n",
      "<li><h3>Running Nipype</h3></li>\n",
      "<ul>\n",
      "<li>Ensure tools are installed and accessible on your path</li>\n",
      "<li>Remember Nipype is simpyl a wrapper for other software packages (e.g., spm, fsl, afni, etc)</li>\n",
      "</ul>\n",
      "</ul>"
     ]
    },
    {
     "cell_type": "markdown",
     "metadata": {
      "slideshow": {
       "slide_type": "slide"
      }
     },
     "source": [
      "<h1><center><em>Nipype Preprocessing Pipeline Example</em></center></h1>"
     ]
    },
    {
     "cell_type": "markdown",
     "metadata": {
      "slideshow": {
       "slide_type": "slide"
      }
     },
     "source": [
      "<h2>Preprocessing Steps</h2>\n",
      "<ol>\n",
      "<li>Slice timing</li>\n",
      "<li>Realignment to mean image</li>\n",
      "<li>Coregister anatomical to functional</li>\n",
      "<li>Segment anatomical with bias correction</li>\n",
      "<li>Normalize anatomical to MNI space</li>\n",
      "<li>Apply normalization to functionals</li>\n",
      "<li>Smooth - 8mm</li>\n",
      "<li>Artifact Detection - 3 sd of global mean (3.5 sd of root mean squared sucessive differences, mahalonobis distance across slices?  ask tor for more details, but ignore fo now)</li>\n",
      "<li>Create nuisance covariate matrix for glm (note the file has headers and NaNs for missing data in the derivative columns)</li>\n",
      "</ol>\n",
      "\n",
      "<h2>Figures Generated</h2>\n",
      "<ul>\n",
      "<li>Realignment Parameters (plot_realign/Realignment_parameters.pdf)</li>\n",
      "<li>MNI space single subject overlayed on mean warped functional (plot_normalization_check/Normalized_Functional_Check.pdf)</li>\n",
      "<li>Spikes identified using global signal (art/plot.rafunc.png)</li>\n",
      "</ul>"
     ]
    },
    {
     "cell_type": "markdown",
     "metadata": {
      "slideshow": {
       "slide_type": "slide"
      }
     },
     "source": [
      "<h1>Setup</h1>\n",
      "<ul>\n",
      "<li>Import Modules and set up paths and defaults</li>\n",
      "</ul>"
     ]
    },
    {
     "cell_type": "code",
     "collapsed": false,
     "input": [
      "# Define Python Modules to import\n",
      "from nipype.interfaces import spm\n",
      "import nipype.interfaces.io as nio           # Data i/o\n",
      "import nipype.interfaces.utility as util     # utility\n",
      "from nipype.pipeline.engine import Node, Workflow\n",
      "from nipype.interfaces.base import BaseInterface, TraitedSpec, File, traits\n",
      "import nipype.algorithms.rapidart as ra      # artifact detection\n",
      "from nipype.interfaces.nipy.preprocess import ComputeMask\n",
      "import nipype.interfaces.matlab as mlab\n",
      "import os\n",
      "import nibabel as nib\n",
      "from IPython.display import Image\n",
      "import glob\n",
      "\n",
      "# Specify various inputs files for pipeline\n",
      "# spm_path = '/projects/ics/software/spm/spm8_r5236/'\n",
      "spm_path = '/Users/lukechang/Documents/Matlab/spm8/'\n",
      "canonical_file = spm_path + 'canonical/single_subj_T1.nii'\n",
      "template_file = spm_path + 'templates/T1.nii'\n",
      "\n",
      "# Set the way matlab should be called\n",
      "# mlab.MatlabCommand.set_default_matlab_cmd(\"matlab -nodesktop -nosplash -nojvm -noFigureWindows\")\n",
      "mlab.MatlabCommand.set_default_matlab_cmd(\"matlab -nodesktop -nosplash\")\n",
      "mlab.MatlabCommand.set_default_paths(spm_path)"
     ],
     "language": "python",
     "metadata": {
      "slideshow": {
       "slide_type": "subslide"
      }
     },
     "outputs": []
    },
    {
     "cell_type": "markdown",
     "metadata": {
      "slideshow": {
       "slide_type": "slide"
      }
     },
     "source": [
      "<h1>Define Nodes</h1>\n",
      "<ul>\n",
      "<li><p>Nodes are processes</p></li>\n",
      "<li><p>They can refer to specific functions of an interface (e.g., coregister)</p></li>\n",
      "<li><p>They can be a custom function</p></li>\n",
      "<li><p>Iterables allow you to iterate over a vector of parameters (e.g., subjects, or smoothing parameters)</p></li>\n",
      "</ul>"
     ]
    },
    {
     "cell_type": "code",
     "collapsed": false,
     "input": [
      "#Setup Data Source for Input Data\n",
      "ds = Node(nio.DataGrabber(infields=['subject_id', 'task_id'], outfields=['func', 'struc']),name='datasource')\n",
      "ds.inputs.base_directory = os.path.abspath(data_dir + '/' + subject_id)\n",
      "ds.inputs.template = '*'\n",
      "ds.inputs.sort_filelist = True\n",
      "ds.inputs.template_args = {'func': [['task_id']], 'struc':[]}\n",
      "ds.inputs.field_template = {'func': 'Functional/Raw/%s/func.nii','struc': 'Structural/SPGR/spgr.nii'}\n",
      "ds.inputs.subject_id = subject_id\n",
      "ds.inputs.task_id = task_list\n",
      "ds.iterables = ('task_id',task_list)\n",
      "\n",
      "#Get Timing Acquisition for slice timing\n",
      "tr = 2\n",
      "ta = Node(interface=util.Function(input_names=['tr', 'n_slices'], output_names=['ta'],  function = get_ta), name=\"ta\")\n",
      "ta.inputs.tr=tr\n",
      "\n",
      "#Slice Timing: sequential ascending \n",
      "slice_timing = Node(interface=spm.SliceTiming(), name=\"slice_timing\")\n",
      "slice_timing.inputs.time_repetition = tr\n",
      "slice_timing.inputs.ref_slice = 1\n",
      "\n",
      "#Realignment - 6 parameters - realign to first image of very first series.\n",
      "realign = Node(interface=spm.Realign(), name=\"realign\")\n",
      "realign.inputs.register_to_mean = True\n",
      "\n",
      "#Plot Realignment\n",
      "plot_realign = Node(interface=PlotRealignmentParameters(), name=\"plot_realign\")\n",
      "\n",
      "#Artifact Detection\n",
      "art = Node(interface=ra.ArtifactDetect(), name=\"art\")\n",
      "art.inputs.use_differences      = [True,False]\n",
      "art.inputs.use_norm             = True\n",
      "art.inputs.norm_threshold       = 1\n",
      "art.inputs.zintensity_threshold = 3\n",
      "art.inputs.mask_type            = 'file'\n",
      "art.inputs.parameter_source     = 'SPM'\n",
      "    \n",
      "#Coregister - 12 parameters, cost function = 'nmi', fwhm 7, interpolate, don't mask\n",
      "#anatomical to functional mean across all available data.\n",
      "coregister = Node(interface=spm.Coregister(), name=\"coregister\")\n",
      "coregister.inputs.jobtype = 'estimate'\n",
      "\n",
      "# Segment structural, gray/white/csf,mni, \n",
      "segment = Node(interface=spm.Segment(), name=\"segment\")\n",
      "segment.inputs.save_bias_corrected = True\n",
      "    \n",
      "#Normalize - structural to MNI - then apply this to the coregistered functionals\n",
      "normalize = Node(interface=spm.Normalize(), name = \"normalize\")\n",
      "normalize.inputs.template = os.path.abspath(template_file)\n",
      "\n",
      "#Plot normalization Check\n",
      "plot_normalization_check = Node(interface=Plot_Coregistration_Montage(), name=\"plot_normalization_check\")\n",
      "plot_normalization_check.inputs.canonical_img = canonical_file\n",
      "    \n",
      "#Create Mask\n",
      "compute_mask = Node(interface=ComputeMask(), name=\"compute_mask\")\n",
      "#remove lower 5% of histogram of mean image\n",
      "compute_mask.inputs.m = .05\n",
      "        \n",
      "#Smooth\n",
      "#implicit masking (.im) = 0, dtype = 0\n",
      "smooth = Node(interface=spm.Smooth(), name = \"smooth\")\n",
      "fwhmlist = [8]\n",
      "smooth.iterables = ('fwhm',fwhmlist)\n",
      "\n",
      "#Create Covariate matrix\n",
      "make_covariates = Node(interface=Create_Covariates(), name=\"make_covariates\")"
     ],
     "language": "python",
     "metadata": {
      "slideshow": {
       "slide_type": "subslide"
      }
     },
     "outputs": [
      {
       "ename": "NameError",
       "evalue": "name 'Node' is not defined",
       "output_type": "pyerr",
       "traceback": [
        "\u001b[0;31m---------------------------------------------------------------------------\u001b[0m\n\u001b[0;31mNameError\u001b[0m                                 Traceback (most recent call last)",
        "\u001b[0;32m<ipython-input-5-a033aa3bfa93>\u001b[0m in \u001b[0;36m<module>\u001b[0;34m()\u001b[0m\n\u001b[1;32m      1\u001b[0m \u001b[0;31m#Setup Data Source for Input Data\u001b[0m\u001b[0;34m\u001b[0m\u001b[0;34m\u001b[0m\u001b[0m\n\u001b[0;32m----> 2\u001b[0;31m \u001b[0mds\u001b[0m \u001b[0;34m=\u001b[0m \u001b[0mNode\u001b[0m\u001b[0;34m(\u001b[0m\u001b[0mnio\u001b[0m\u001b[0;34m.\u001b[0m\u001b[0mDataGrabber\u001b[0m\u001b[0;34m(\u001b[0m\u001b[0minfields\u001b[0m\u001b[0;34m=\u001b[0m\u001b[0;34m[\u001b[0m\u001b[0;34m'subject_id'\u001b[0m\u001b[0;34m,\u001b[0m \u001b[0;34m'task_id'\u001b[0m\u001b[0;34m]\u001b[0m\u001b[0;34m,\u001b[0m \u001b[0moutfields\u001b[0m\u001b[0;34m=\u001b[0m\u001b[0;34m[\u001b[0m\u001b[0;34m'func'\u001b[0m\u001b[0;34m,\u001b[0m \u001b[0;34m'struc'\u001b[0m\u001b[0;34m]\u001b[0m\u001b[0;34m)\u001b[0m\u001b[0;34m,\u001b[0m\u001b[0mname\u001b[0m\u001b[0;34m=\u001b[0m\u001b[0;34m'datasource'\u001b[0m\u001b[0;34m)\u001b[0m\u001b[0;34m\u001b[0m\u001b[0m\n\u001b[0m\u001b[1;32m      3\u001b[0m \u001b[0mds\u001b[0m\u001b[0;34m.\u001b[0m\u001b[0minputs\u001b[0m\u001b[0;34m.\u001b[0m\u001b[0mbase_directory\u001b[0m \u001b[0;34m=\u001b[0m \u001b[0mos\u001b[0m\u001b[0;34m.\u001b[0m\u001b[0mpath\u001b[0m\u001b[0;34m.\u001b[0m\u001b[0mabspath\u001b[0m\u001b[0;34m(\u001b[0m\u001b[0mdata_dir\u001b[0m \u001b[0;34m+\u001b[0m \u001b[0;34m'/'\u001b[0m \u001b[0;34m+\u001b[0m \u001b[0msubject_id\u001b[0m\u001b[0;34m)\u001b[0m\u001b[0;34m\u001b[0m\u001b[0m\n\u001b[1;32m      4\u001b[0m \u001b[0mds\u001b[0m\u001b[0;34m.\u001b[0m\u001b[0minputs\u001b[0m\u001b[0;34m.\u001b[0m\u001b[0mtemplate\u001b[0m \u001b[0;34m=\u001b[0m \u001b[0;34m'*'\u001b[0m\u001b[0;34m\u001b[0m\u001b[0m\n\u001b[1;32m      5\u001b[0m \u001b[0mds\u001b[0m\u001b[0;34m.\u001b[0m\u001b[0minputs\u001b[0m\u001b[0;34m.\u001b[0m\u001b[0msort_filelist\u001b[0m \u001b[0;34m=\u001b[0m \u001b[0mTrue\u001b[0m\u001b[0;34m\u001b[0m\u001b[0m\n",
        "\u001b[0;31mNameError\u001b[0m: name 'Node' is not defined"
       ]
      }
     ],
     "prompt_number": 5
    },
    {
     "cell_type": "markdown",
     "metadata": {
      "slideshow": {
       "slide_type": "slide"
      }
     },
     "source": [
      "<h1>Create a Workflow</h1>\n",
      "<ul>\n",
      "<li><p>A workflow is a processing pipeline</p></li>\n",
      "<li><p>It is a directed acyclic graph that represents data flow</p></li>\n",
      "<li><p>Nodes are processes</p></li>\n",
      "<li><p>Edges are direction of data flow</p></li>\n",
      "<li><p>Must define input and and output of processing node</p></li>\n",
      "</ul>"
     ]
    },
    {
     "cell_type": "code",
     "collapsed": false,
     "input": [
      "Preprocessed = Workflow(name=\"Preprocessed\")\n",
      "Preprocessed.base_dir = os.path.abspath(data_dir + '/' + subject_id + '/Functional')\n",
      "\n",
      "Preprocessed.connect([  \n",
      "                    (ds, ta, [(('func', get_n_slices), \"n_slices\")]),\n",
      "                    (ta, slice_timing, [(\"ta\", \"time_acquisition\")]),\n",
      "                    (ds, slice_timing, [('func', 'in_files'),\n",
      "                                        (('func', get_n_slices), \"num_slices\"),\n",
      "                                        (('func', get_slice_order), \"slice_order\"),\n",
      "                                           ]),\n",
      "                    (slice_timing, realign, [('timecorrected_files', 'in_files')]),\n",
      "                    (realign, compute_mask, [('mean_image','mean_volume')]),\n",
      "                    (realign,coregister, [('mean_image', 'target')]),\n",
      "                    (ds,coregister, [('struc', 'source')]),\n",
      "                    (coregister,segment, [('coregistered_source', 'data')]),\n",
      "                    (segment, normalize, [('transformation_mat','parameter_file'),\n",
      "                                        ('bias_corrected_image', 'source'),]),\n",
      "                    (realign,normalize, [('realigned_files', 'apply_to_files'),\n",
      "                                        (('realigned_files', get_vox_dims), 'write_voxel_sizes')]),\n",
      "                    (normalize, smooth, [('normalized_files', 'in_files')]),\n",
      "                    (compute_mask,art,[('brain_mask','mask_file')]),\n",
      "                    (realign,art,[('realignment_parameters','realignment_parameters')]),\n",
      "                    (realign,art,[('realigned_files','realigned_files')]),\n",
      "                    (realign,plot_realign, [('realignment_parameters', 'realignment_parameters')]),\n",
      "                    (normalize, plot_normalization_check, [('normalized_files', 'wra_img')]),\n",
      "                    (realign, make_covariates, [('realignment_parameters', 'realignment_parameters')]),\n",
      "                    (art, make_covariates, [('outlier_files', 'spike_id')]),\n",
      "                      ])"
     ],
     "language": "python",
     "metadata": {
      "slideshow": {
       "slide_type": "subslide"
      }
     },
     "outputs": []
    },
    {
     "cell_type": "markdown",
     "metadata": {
      "slideshow": {
       "slide_type": "slide"
      }
     },
     "source": [
      "<h1>Visualize the graphical pipeline</h1>\n",
      "<ul>\n",
      "<li>Each processing step in the workflow is a node in the graph</li>\n",
      "<li>Because it is a DAG, you can easily run different pipelines on the same data without interfering with other pipelines. </li>\n",
      "<li>All of the files you will need for subsequent analyses will be in each of these folders.</li>\n",
      "<li>If you make changes to a node, nipype will only rerun the thing you changed and all dependent nodes.</li> \n",
      "<li><p>You can easily iterate over a vector of parameters using iterables (e.g., different smoothing parameters)</p></li>\n",
      "</ul>"
     ]
    },
    {
     "cell_type": "markdown",
     "metadata": {
      "slideshow": {
       "slide_type": "subslide"
      }
     },
     "source": [
      "<p>Here is a directed acyclic graph of the preprocessing pipeline.</p>\n",
      "<img src = \"Images/Preprocessed_flow.png\">"
     ]
    },
    {
     "cell_type": "code",
     "collapsed": false,
     "input": [
      "data_dir = '/Users/lukechang/Dropbox/PTSD/Data/Imaging/'\n",
      "sub = 'subj46153C'\n",
      "Preprocessed = create_preproc_func_pipeline(data_dir = data_dir, subject_id=sub)\n",
      "Preprocessed.write_graph(data_dir + sub + \"/Preprocessed_Workflow.dot\")\n",
      "Image(filename=data_dir + sub + '/Preprocessed_Workflow.dot.png')"
     ],
     "language": "python",
     "metadata": {
      "slideshow": {
       "slide_type": "subslide"
      }
     },
     "outputs": [
      {
       "ename": "NameError",
       "evalue": "name 'create_preproc_func_pipeline' is not defined",
       "output_type": "pyerr",
       "traceback": [
        "\u001b[0;31m---------------------------------------------------------------------------\u001b[0m\n\u001b[0;31mNameError\u001b[0m                                 Traceback (most recent call last)",
        "\u001b[0;32m<ipython-input-6-295c75f0b91b>\u001b[0m in \u001b[0;36m<module>\u001b[0;34m()\u001b[0m\n\u001b[1;32m      1\u001b[0m \u001b[0mdata_dir\u001b[0m \u001b[0;34m=\u001b[0m \u001b[0;34m'/Users/lukechang/Dropbox/PTSD/Data/Imaging/'\u001b[0m\u001b[0;34m\u001b[0m\u001b[0m\n\u001b[1;32m      2\u001b[0m \u001b[0msub\u001b[0m \u001b[0;34m=\u001b[0m \u001b[0;34m'subj46153C'\u001b[0m\u001b[0;34m\u001b[0m\u001b[0m\n\u001b[0;32m----> 3\u001b[0;31m \u001b[0mPreprocessed\u001b[0m \u001b[0;34m=\u001b[0m \u001b[0mcreate_preproc_func_pipeline\u001b[0m\u001b[0;34m(\u001b[0m\u001b[0mdata_dir\u001b[0m \u001b[0;34m=\u001b[0m \u001b[0mdata_dir\u001b[0m\u001b[0;34m,\u001b[0m \u001b[0msubject_id\u001b[0m\u001b[0;34m=\u001b[0m\u001b[0msub\u001b[0m\u001b[0;34m)\u001b[0m\u001b[0;34m\u001b[0m\u001b[0m\n\u001b[0m\u001b[1;32m      4\u001b[0m \u001b[0mPreprocessed\u001b[0m\u001b[0;34m.\u001b[0m\u001b[0mwrite_graph\u001b[0m\u001b[0;34m(\u001b[0m\u001b[0mdata_dir\u001b[0m \u001b[0;34m+\u001b[0m \u001b[0msub\u001b[0m \u001b[0;34m+\u001b[0m \u001b[0;34m\"/Preprocessed_Workflow.dot\"\u001b[0m\u001b[0;34m)\u001b[0m\u001b[0;34m\u001b[0m\u001b[0m\n\u001b[1;32m      5\u001b[0m \u001b[0mImage\u001b[0m\u001b[0;34m(\u001b[0m\u001b[0mfilename\u001b[0m\u001b[0;34m=\u001b[0m\u001b[0mdata_dir\u001b[0m \u001b[0;34m+\u001b[0m \u001b[0msub\u001b[0m \u001b[0;34m+\u001b[0m \u001b[0;34m'/Preprocessed_Workflow.dot.png'\u001b[0m\u001b[0;34m)\u001b[0m\u001b[0;34m\u001b[0m\u001b[0m\n",
        "\u001b[0;31mNameError\u001b[0m: name 'create_preproc_func_pipeline' is not defined"
       ]
      }
     ],
     "prompt_number": 6
    },
    {
     "cell_type": "markdown",
     "metadata": {
      "slideshow": {
       "slide_type": "slide"
      }
     },
     "source": [
      "<h1>Execution Plugins</h1>\n",
      "<p>Allows seamless execution across many architectures</p>\n",
      "<ul>\n",
      "<li><h3>Local</h3></li>\n",
      "<ul>\n",
      "<li>serially</li>\n",
      "<li>multicore</li>\n",
      "</ul>\n",
      "<li><h3>Clusters</h3></li>\n",
      "<ul>\n",
      "<li>PBS/Torque</li>\n",
      "<li>SGE</li>\n",
      "<li>SLURM</li>\n",
      "<li>SSH (via IPython)</li>\n",
      "</ul>\n",
      "<li><h3>Caveats</h3></li>\n",
      "<ul>\n",
      "<li>Submitting jobs using PBS is really slow because nipype is waiting to submit jobs while they are in \"c\" completed state.</li>\n",
      "<li>Haven't tested it on SLURM yet.</li>\n",
      "<li>Works looping over subjects on interactive node.</li>\n",
      "<li>Should be able to submit each subject to a node and run multiprocessing on each job submission.</li>\n",
      "</ul>\n",
      "</ul>"
     ]
    },
    {
     "cell_type": "code",
     "collapsed": false,
     "input": [
      "# Create Pipeline for subject\n",
      "data_dir='/Users/lukechang/Dropbox/PTSD/Data/Imaging'\n",
      "\n",
      "# subject_id = 'subj46153C'\n",
      "task_list=['s1_r1Cond','s1_r1Ext']\n",
      "Preprocessed = create_preproc_func_pipeline(data_dir=data_dir, subject_id = subject_id, task_list=task_list)\n",
      "\n",
      "# Get List of subjects\n",
      "# sublist = sorted([x.split('/')[-1] for x in glob.glob(data_dir + '/subj*')])\n",
      "\n",
      "# Loop over subjects\n",
      "for sub in reversed(sublist):\n",
      "    #Glob Subject runs as they vary\n",
      "    runlist = [x.split('/')[-1] for x in glob.glob(data_dir + '/' + sub + '/Functional/Raw/*')]\n",
      "    Preprocessed = create_preproc_func_pipeline(data_dir=data_dir, subject_id = sub, task_list=runlist)\n",
      "    print  data_dir + '/' + sub\n",
      "   \n",
      "    # Write out pipeline as a DAG\n",
      "    Preprocessed.write_graph(dotfilename=data_dir + '/' + sub + \"/Functional/Preprocessed_Workflow.dot.svg\",format='svg')\n",
      "    Preprocessed.run(plugin='MultiProc', plugin_args={'n_procs' : 4}) \n"
     ],
     "language": "python",
     "metadata": {
      "slideshow": {
       "slide_type": "subslide"
      }
     },
     "outputs": []
    },
    {
     "cell_type": "markdown",
     "metadata": {
      "slideshow": {
       "slide_type": "slide"
      }
     },
     "source": [
      "<h1>Create your own custom functions</h1>\n",
      "<ul>\n",
      "<li><p>You can easily create your own Nodes running custom functions</p></li>\n",
      "<li><p>Use object oriented python coding</p></li>\n",
      "<li><p>You need to define <em>Input</em> and <em>Output</em> Specs</p></li>\n",
      "<li><p>Can use python, shell scripts, matlab, etc.</p></li>\n",
      "</ul>"
     ]
    },
    {
     "cell_type": "code",
     "collapsed": false,
     "input": [
      "# Example to create a custom coregistration plot using nilearn plotting tools\n",
      "\n",
      "class Plot_Coregistration_Montage_InputSpec(TraitedSpec):\n",
      "    wra_img = File(exists=True, mandatory=True) \n",
      "    canonical_img = File(exists=True, mandatory=True)\n",
      "    title = traits.Str(\"Normalized Functional Check\", usedefault=True)\n",
      "    \n",
      "class Plot_Coregistration_Montage_OutputSpec(TraitedSpec):\n",
      "    plot = File(exists=True)\n",
      "\n",
      "class Plot_Coregistration_Montage(BaseInterface):\n",
      "    # This function creates a plot of an axial montage of the average normalized functional data \n",
      "    # with the spm MNI space single subject T1 overlaid. Useful for checking normalization\n",
      "    input_spec = Plot_Coregistration_Montage_InputSpec\n",
      "    output_spec = Plot_Coregistration_Montage_OutputSpec\n",
      "\n",
      "    def _run_interface(self, runtime):\n",
      "        import nibabel as nib\n",
      "        from nilearn import plotting, datasets, image\n",
      "        from nipype.interfaces.base import isdefined\n",
      "        import numpy as np\n",
      "        import pylab as plt\n",
      "        import os\n",
      "        \n",
      "        wra_img = nib.load(self.inputs.wra_img)\n",
      "        canonical_img = nib.load(self.inputs.canonical_img)\n",
      "        title = self.inputs.title\n",
      "        mean_wraimg = image.mean_img(wra_img)\n",
      "        \n",
      "        if title != \"\":\n",
      "            filename = title.replace(\" \", \"_\")+\".pdf\"\n",
      "        else:\n",
      "            filename = \"plot.pdf\"\n",
      "        \n",
      "        fig = plotting.plot_anat(mean_wraimg, title=\"wrafunc & canonical single subject\", cut_coords=range(-40, 40, 10), display_mode='z')\n",
      "        fig.add_edges(canonical_img)     \n",
      "        fig.savefig(filename)\n",
      "        fig.close()\n",
      "        \n",
      "        self._plot = filename\n",
      "        \n",
      "        runtime.returncode=0\n",
      "        return runtime\n",
      "    \n",
      "    def _list_outputs(self):\n",
      "        outputs = self._outputs().get()\n",
      "        outputs[\"plot\"] = os.path.abspath(self._plot)\n",
      "        return outputs"
     ],
     "language": "python",
     "metadata": {
      "slideshow": {
       "slide_type": "subslide"
      }
     },
     "outputs": []
    },
    {
     "cell_type": "markdown",
     "metadata": {
      "slideshow": {
       "slide_type": "subslide"
      }
     },
     "source": [
      "<h1>Coregistration Check</h1>\n",
      "<img src = \"Images/Normalized_Functional_Check.png\">"
     ]
    },
    {
     "cell_type": "markdown",
     "metadata": {
      "slideshow": {
       "slide_type": "slide"
      }
     },
     "source": [
      "<h1>Additional Resources</h1>\n",
      "<ul>\n",
      "<li><a href = \"http://ipython.org/notebook.html\">iPython Notebooks</a></li>\n",
      "<li><a href = \"http://nipy.sourceforge.net/nipype/\">Nipype Website</a></li>\n",
      "<li><a href = \"http://journal.frontiersin.org/Journal/10.3389/fninf.2011.00013/abstract\">Nipype Paper</a></li>\n",
      "<li><a href = \"http://satra.cogitatum.org/intro2nipype/#slide1\">Satra Ghosh's Slides</a></li>\n",
      "<li><a href=\"http://nbviewer.ipython.org/urls/dl.dropbox.com/s/u7r3lpw28ivphem/PTSD_Nipype.ipynb?dl=0\">Example Preprocessing Tutorial</a></li>\n",
      "<li><a href=\"https://github.com/ljchang/CosanlabToolbox/blob/master/Python/ImageProcessing/Nipype_SPM_Preproc.py\">Example Preprocessing Script Using SPM</a></li>\n",
      "<li><a href = \"http://journal.frontiersin.org/Journal/10.3389/fnins.2012.00149/abstract\">Josh Carp's fMRI Analysis Pipeline Paper</a></li>\n",
      "<li><a href = \"http://fcon_1000.projects.nitrc.org/indi/cpac/index.html\">Mike Milham's Resting State Pipelines</a></li>\n",
      "<li><a href = \"https://github.com/mwaskom/nipype_concepts\">Michael Waskom's Nipype Tutorial</a></li>\n",
      "</ul>\n"
     ]
    }
   ],
   "metadata": {}
  }
 ]
}